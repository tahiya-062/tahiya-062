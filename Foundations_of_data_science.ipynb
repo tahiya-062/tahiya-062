{
  "nbformat": 4,
  "nbformat_minor": 0,
  "metadata": {
    "colab": {
      "provenance": [],
      "include_colab_link": true
    },
    "kernelspec": {
      "name": "python3",
      "display_name": "Python 3"
    },
    "language_info": {
      "name": "python"
    }
  },
  "cells": [
    {
      "cell_type": "markdown",
      "metadata": {
        "id": "view-in-github",
        "colab_type": "text"
      },
      "source": [
        "<a href=\"https://colab.research.google.com/github/tahiya-062/tahiya-062/blob/main/Foundations_of_data_science.ipynb\" target=\"_parent\"><img src=\"https://colab.research.google.com/assets/colab-badge.svg\" alt=\"Open In Colab\"/></a>"
      ]
    },
    {
      "cell_type": "code",
      "source": [
        "\n",
        "from google.colab import files\n",
        "uploaded = files.upload()\n",
        "\n",
        "import pandas as pd\n"
      ],
      "metadata": {
        "colab": {
          "base_uri": "https://localhost:8080/",
          "height": 73
        },
        "id": "D5pR1PykqoOI",
        "outputId": "0927ae11-bc59-4cdc-fc0a-c3a054b35a59"
      },
      "execution_count": 9,
      "outputs": [
        {
          "output_type": "display_data",
          "data": {
            "text/plain": [
              "<IPython.core.display.HTML object>"
            ],
            "text/html": [
              "\n",
              "     <input type=\"file\" id=\"files-7bf4f410-76bf-434e-b981-49bb78e37baf\" name=\"files[]\" multiple disabled\n",
              "        style=\"border:none\" />\n",
              "     <output id=\"result-7bf4f410-76bf-434e-b981-49bb78e37baf\">\n",
              "      Upload widget is only available when the cell has been executed in the\n",
              "      current browser session. Please rerun this cell to enable.\n",
              "      </output>\n",
              "      <script>// Copyright 2017 Google LLC\n",
              "//\n",
              "// Licensed under the Apache License, Version 2.0 (the \"License\");\n",
              "// you may not use this file except in compliance with the License.\n",
              "// You may obtain a copy of the License at\n",
              "//\n",
              "//      http://www.apache.org/licenses/LICENSE-2.0\n",
              "//\n",
              "// Unless required by applicable law or agreed to in writing, software\n",
              "// distributed under the License is distributed on an \"AS IS\" BASIS,\n",
              "// WITHOUT WARRANTIES OR CONDITIONS OF ANY KIND, either express or implied.\n",
              "// See the License for the specific language governing permissions and\n",
              "// limitations under the License.\n",
              "\n",
              "/**\n",
              " * @fileoverview Helpers for google.colab Python module.\n",
              " */\n",
              "(function(scope) {\n",
              "function span(text, styleAttributes = {}) {\n",
              "  const element = document.createElement('span');\n",
              "  element.textContent = text;\n",
              "  for (const key of Object.keys(styleAttributes)) {\n",
              "    element.style[key] = styleAttributes[key];\n",
              "  }\n",
              "  return element;\n",
              "}\n",
              "\n",
              "// Max number of bytes which will be uploaded at a time.\n",
              "const MAX_PAYLOAD_SIZE = 100 * 1024;\n",
              "\n",
              "function _uploadFiles(inputId, outputId) {\n",
              "  const steps = uploadFilesStep(inputId, outputId);\n",
              "  const outputElement = document.getElementById(outputId);\n",
              "  // Cache steps on the outputElement to make it available for the next call\n",
              "  // to uploadFilesContinue from Python.\n",
              "  outputElement.steps = steps;\n",
              "\n",
              "  return _uploadFilesContinue(outputId);\n",
              "}\n",
              "\n",
              "// This is roughly an async generator (not supported in the browser yet),\n",
              "// where there are multiple asynchronous steps and the Python side is going\n",
              "// to poll for completion of each step.\n",
              "// This uses a Promise to block the python side on completion of each step,\n",
              "// then passes the result of the previous step as the input to the next step.\n",
              "function _uploadFilesContinue(outputId) {\n",
              "  const outputElement = document.getElementById(outputId);\n",
              "  const steps = outputElement.steps;\n",
              "\n",
              "  const next = steps.next(outputElement.lastPromiseValue);\n",
              "  return Promise.resolve(next.value.promise).then((value) => {\n",
              "    // Cache the last promise value to make it available to the next\n",
              "    // step of the generator.\n",
              "    outputElement.lastPromiseValue = value;\n",
              "    return next.value.response;\n",
              "  });\n",
              "}\n",
              "\n",
              "/**\n",
              " * Generator function which is called between each async step of the upload\n",
              " * process.\n",
              " * @param {string} inputId Element ID of the input file picker element.\n",
              " * @param {string} outputId Element ID of the output display.\n",
              " * @return {!Iterable<!Object>} Iterable of next steps.\n",
              " */\n",
              "function* uploadFilesStep(inputId, outputId) {\n",
              "  const inputElement = document.getElementById(inputId);\n",
              "  inputElement.disabled = false;\n",
              "\n",
              "  const outputElement = document.getElementById(outputId);\n",
              "  outputElement.innerHTML = '';\n",
              "\n",
              "  const pickedPromise = new Promise((resolve) => {\n",
              "    inputElement.addEventListener('change', (e) => {\n",
              "      resolve(e.target.files);\n",
              "    });\n",
              "  });\n",
              "\n",
              "  const cancel = document.createElement('button');\n",
              "  inputElement.parentElement.appendChild(cancel);\n",
              "  cancel.textContent = 'Cancel upload';\n",
              "  const cancelPromise = new Promise((resolve) => {\n",
              "    cancel.onclick = () => {\n",
              "      resolve(null);\n",
              "    };\n",
              "  });\n",
              "\n",
              "  // Wait for the user to pick the files.\n",
              "  const files = yield {\n",
              "    promise: Promise.race([pickedPromise, cancelPromise]),\n",
              "    response: {\n",
              "      action: 'starting',\n",
              "    }\n",
              "  };\n",
              "\n",
              "  cancel.remove();\n",
              "\n",
              "  // Disable the input element since further picks are not allowed.\n",
              "  inputElement.disabled = true;\n",
              "\n",
              "  if (!files) {\n",
              "    return {\n",
              "      response: {\n",
              "        action: 'complete',\n",
              "      }\n",
              "    };\n",
              "  }\n",
              "\n",
              "  for (const file of files) {\n",
              "    const li = document.createElement('li');\n",
              "    li.append(span(file.name, {fontWeight: 'bold'}));\n",
              "    li.append(span(\n",
              "        `(${file.type || 'n/a'}) - ${file.size} bytes, ` +\n",
              "        `last modified: ${\n",
              "            file.lastModifiedDate ? file.lastModifiedDate.toLocaleDateString() :\n",
              "                                    'n/a'} - `));\n",
              "    const percent = span('0% done');\n",
              "    li.appendChild(percent);\n",
              "\n",
              "    outputElement.appendChild(li);\n",
              "\n",
              "    const fileDataPromise = new Promise((resolve) => {\n",
              "      const reader = new FileReader();\n",
              "      reader.onload = (e) => {\n",
              "        resolve(e.target.result);\n",
              "      };\n",
              "      reader.readAsArrayBuffer(file);\n",
              "    });\n",
              "    // Wait for the data to be ready.\n",
              "    let fileData = yield {\n",
              "      promise: fileDataPromise,\n",
              "      response: {\n",
              "        action: 'continue',\n",
              "      }\n",
              "    };\n",
              "\n",
              "    // Use a chunked sending to avoid message size limits. See b/62115660.\n",
              "    let position = 0;\n",
              "    do {\n",
              "      const length = Math.min(fileData.byteLength - position, MAX_PAYLOAD_SIZE);\n",
              "      const chunk = new Uint8Array(fileData, position, length);\n",
              "      position += length;\n",
              "\n",
              "      const base64 = btoa(String.fromCharCode.apply(null, chunk));\n",
              "      yield {\n",
              "        response: {\n",
              "          action: 'append',\n",
              "          file: file.name,\n",
              "          data: base64,\n",
              "        },\n",
              "      };\n",
              "\n",
              "      let percentDone = fileData.byteLength === 0 ?\n",
              "          100 :\n",
              "          Math.round((position / fileData.byteLength) * 100);\n",
              "      percent.textContent = `${percentDone}% done`;\n",
              "\n",
              "    } while (position < fileData.byteLength);\n",
              "  }\n",
              "\n",
              "  // All done.\n",
              "  yield {\n",
              "    response: {\n",
              "      action: 'complete',\n",
              "    }\n",
              "  };\n",
              "}\n",
              "\n",
              "scope.google = scope.google || {};\n",
              "scope.google.colab = scope.google.colab || {};\n",
              "scope.google.colab._files = {\n",
              "  _uploadFiles,\n",
              "  _uploadFilesContinue,\n",
              "};\n",
              "})(self);\n",
              "</script> "
            ]
          },
          "metadata": {}
        },
        {
          "output_type": "stream",
          "name": "stdout",
          "text": [
            "Saving dataset2.csv to dataset2 (1).csv\n"
          ]
        }
      ]
    },
    {
      "cell_type": "code",
      "metadata": {
        "colab": {
          "base_uri": "https://localhost:8080/"
        },
        "id": "ef59708f",
        "outputId": "8c983a79-3ac1-464c-cff6-9064cf599093"
      },
      "source": [
        "df1 = pd.read_csv(\"/content/dataset1.csv\")\n",
        "df2 = pd.read_csv(\"/content/dataset2.csv\")\n",
        "print(\"Dataset1 shape:\", df1.shape)\n",
        "print(\"Dataset2 shape:\", df2.shape)"
      ],
      "execution_count": 10,
      "outputs": [
        {
          "output_type": "stream",
          "name": "stdout",
          "text": [
            "Dataset1 shape: (907, 12)\n",
            "Dataset2 shape: (2123, 7)\n"
          ]
        }
      ]
    },
    {
      "cell_type": "markdown",
      "source": [],
      "metadata": {
        "id": "-JSFUJ1rDtV5"
      }
    },
    {
      "cell_type": "code",
      "execution_count": 11,
      "metadata": {
        "id": "qBoldSsSxRad"
      },
      "outputs": [],
      "source": [
        "\n",
        "# Importing necessary libraries\n",
        "import os\n",
        "import json\n",
        "import numpy as np\n",
        "import pandas as pd\n",
        "import matplotlib.pyplot as plt\n",
        "from scipy import stats\n",
        "import statsmodels.api as sm\n",
        "from sklearn.ensemble import RandomForestClassifier\n",
        "from sklearn.model_selection import train_test_split\n",
        "from sklearn.metrics import roc_auc_score, classification_report"
      ]
    },
    {
      "cell_type": "code",
      "source": [
        "# Creating output folder\n",
        "OUT_DIR = \"Bat_Vs_Rat_assignment_outputs\"\n",
        "os.makedirs(OUT_DIR, exist_ok=True)"
      ],
      "metadata": {
        "id": "s9wCSQfFxsbi"
      },
      "execution_count": 12,
      "outputs": []
    },
    {
      "cell_type": "code",
      "source": [
        "# Loading Datasets\n",
        "df1 = pd.read_csv(\"dataset1.csv\")\n",
        "df2 = pd.read_csv(\"dataset2.csv\")\n",
        "print(\"Dataset1 shape:\", df1.shape)\n",
        "print(\"Dataset2 shape:\", df2.shape)"
      ],
      "metadata": {
        "id": "Q1sWTTQvzxzK",
        "colab": {
          "base_uri": "https://localhost:8080/"
        },
        "outputId": "eb286acd-67cc-4479-be18-afa7940eac31"
      },
      "execution_count": 13,
      "outputs": [
        {
          "output_type": "stream",
          "name": "stdout",
          "text": [
            "Dataset1 shape: (907, 12)\n",
            "Dataset2 shape: (2123, 7)\n"
          ]
        }
      ]
    },
    {
      "cell_type": "markdown",
      "source": [
        "Cleaning dataset1"
      ],
      "metadata": {
        "id": "DiIiGfV058j-"
      }
    },
    {
      "cell_type": "code",
      "source": [
        "df = df1.copy()\n",
        "df.columns = [c.strip() for c in df.columns]\n",
        "\n",
        "# Converting numerics\n",
        "for col in ['bat_landing_to_food','seconds_after_rat_arrival','hours_after_sunset','risk','reward']:\n",
        "    if col in df.columns:\n",
        "        df[col] = pd.to_numeric(df[col], errors='coerce')\n",
        "\n",
        "# Converting binary columns to integer\n",
        "if 'risk' in df.columns:\n",
        "    df['risk'] = df['risk'].astype('Int64')\n",
        "if 'reward' in df.columns:\n",
        "    df['reward'] = df['reward'].astype('Int64')\n",
        "\n",
        "# Converting to date/time\n",
        "for col in ['start_time','rat_period_start','rat_period_end','sunset_time']:\n",
        "    if col in df.columns:\n",
        "        df[col] = pd.to_datetime(df[col], errors='coerce')\n",
        "\n",
        "# Duration of rat presence\n",
        "if 'rat_period_start' in df.columns and 'rat_period_end' in df.columns:\n",
        "    df['rat_present_duration_s'] = (df['rat_period_end'] - df['rat_period_start']).dt.total_seconds()\n",
        "\n",
        "# Time-since-rat category\n",
        "if 'seconds_after_rat_arrival' in df.columns:\n",
        "    bins = [-1,0,10,60,3600,np.inf]\n",
        "    labels = ['0s','1-10s','10-60s','1-60min','>1hr']\n",
        "    df['time_since_rat_cat'] = pd.cut(df['seconds_after_rat_arrival'], bins=bins, labels=labels)\n",
        "\n",
        "# Removing rows with missing important values\n",
        "important_cols = ['bat_landing_to_food','seconds_after_rat_arrival','risk']\n",
        "df_clean = df.dropna(subset=important_cols).copy()\n",
        "\n",
        "print(\"Rows after cleaning:\", df_clean.shape[0])\n",
        "\n",
        "# Saving cleaned dataset\n",
        "df_clean.to_csv(os.path.join(OUT_DIR, \"dataset1_cleaned.csv\"), index=False)"
      ],
      "metadata": {
        "id": "4GJY3nGZ6ZJv",
        "colab": {
          "base_uri": "https://localhost:8080/"
        },
        "outputId": "424cc4cd-217a-4cf4-a7c2-a076a2730073"
      },
      "execution_count": 14,
      "outputs": [
        {
          "output_type": "stream",
          "name": "stdout",
          "text": [
            "Rows after cleaning: 907\n"
          ]
        },
        {
          "output_type": "stream",
          "name": "stderr",
          "text": [
            "/tmp/ipython-input-1694530958.py:18: UserWarning: Parsing dates in %d/%m/%Y %H:%M format when dayfirst=False (the default) was specified. Pass `dayfirst=True` or specify a format to silence this warning.\n",
            "  df[col] = pd.to_datetime(df[col], errors='coerce')\n",
            "/tmp/ipython-input-1694530958.py:18: UserWarning: Parsing dates in %d/%m/%Y %H:%M format when dayfirst=False (the default) was specified. Pass `dayfirst=True` or specify a format to silence this warning.\n",
            "  df[col] = pd.to_datetime(df[col], errors='coerce')\n",
            "/tmp/ipython-input-1694530958.py:18: UserWarning: Parsing dates in %d/%m/%Y %H:%M format when dayfirst=False (the default) was specified. Pass `dayfirst=True` or specify a format to silence this warning.\n",
            "  df[col] = pd.to_datetime(df[col], errors='coerce')\n",
            "/tmp/ipython-input-1694530958.py:18: UserWarning: Parsing dates in %d/%m/%Y %H:%M format when dayfirst=False (the default) was specified. Pass `dayfirst=True` or specify a format to silence this warning.\n",
            "  df[col] = pd.to_datetime(df[col], errors='coerce')\n"
          ]
        }
      ]
    },
    {
      "cell_type": "markdown",
      "source": [
        "Cleaning dataset2"
      ],
      "metadata": {
        "id": "-sKAwDaU7ZNX"
      }
    },
    {
      "cell_type": "code",
      "source": [
        "\n",
        "\n",
        "d2 = df2.copy()\n",
        "d2.columns = [c.strip() for c in d2.columns]\n",
        "for col in ['bat_landing_number','food_availability','rat_minutes','rat_arrival_number','hours_after_sunset']:\n",
        "    if col in d2.columns:\n",
        "        d2[col] = pd.to_numeric(d2[col], errors='coerce')\n",
        "d2.to_csv(os.path.join(OUT_DIR, \"dataset2_cleaned.csv\"), index=False)"
      ],
      "metadata": {
        "id": "Rnz1E76539zZ"
      },
      "execution_count": 15,
      "outputs": []
    },
    {
      "cell_type": "markdown",
      "source": [
        "Exploratory data analysis"
      ],
      "metadata": {
        "id": "-U8hP2QY4Ipt"
      }
    },
    {
      "cell_type": "code",
      "source": [
        "\n",
        "# Histogram\n",
        "plt.hist(df_clean['bat_landing_to_food'].dropna(), bins=40)\n",
        "plt.xlabel('bat_landing_to_food (s)')\n",
        "plt.ylabel('Count')\n",
        "plt.title('Distribution of bat_landing_to_food')\n",
        "plt.show()"
      ],
      "metadata": {
        "id": "4evRMbSw4DSk",
        "colab": {
          "base_uri": "https://localhost:8080/",
          "height": 472
        },
        "outputId": "677d4741-9dad-4375-f5f5-d1421d5d2ca8"
      },
      "execution_count": 16,
      "outputs": [
        {
          "output_type": "display_data",
          "data": {
            "text/plain": [
              "<Figure size 640x480 with 1 Axes>"
            ],
            "image/png": "[encoded data removed]"
          },
          "metadata": {}
        }
      ]
    },
    {
      "cell_type": "code",
      "source": [
        "# Plotting by risk\n",
        "groups = [df_clean[df_clean['risk']==0]['bat_landing_to_food'].dropna(),\n",
        "          df_clean[df_clean['risk']==1]['bat_landing_to_food'].dropna()]\n",
        "plt.boxplot(groups, labels=['risk=0','risk=1'], showfliers=False)\n",
        "plt.ylabel('bat_landing_to_food (s)')\n",
        "plt.title('bat_landing_to_food by risk')\n",
        "plt.show()"
      ],
      "metadata": {
        "id": "5-tLgmQ-4NQ7",
        "colab": {
          "base_uri": "https://localhost:8080/",
          "height": 507
        },
        "outputId": "b2506279-4a6c-435a-d0a3-37448e00d11f"
      },
      "execution_count": 17,
      "outputs": [
        {
          "output_type": "stream",
          "name": "stderr",
          "text": [
            "/tmp/ipython-input-1313483300.py:4: MatplotlibDeprecationWarning: The 'labels' parameter of boxplot() has been renamed 'tick_labels' since Matplotlib 3.9; support for the old name will be dropped in 3.11.\n",
            "  plt.boxplot(groups, labels=['risk=0','risk=1'], showfliers=False)\n"
          ]
        },
        {
          "output_type": "display_data",
          "data": {
            "text/plain": [
              "<Figure size 640x480 with 1 Axes>"
            ],
            "image/png": "[encoded data removed]"
          },
          "metadata": {}
        }
      ]
    },
    {
      "cell_type": "code",
      "source": [
        "# Scattering\n",
        "x = df_clean['seconds_after_rat_arrival'].replace(0,0.1)\n",
        "plt.scatter(np.log10(x), df_clean['bat_landing_to_food'], alpha=0.5, s=10)\n",
        "plt.xlabel('log10(seconds_after_rat_arrival)')\n",
        "plt.ylabel('bat_landing_to_food (s)')\n",
        "plt.title('Landing delay vs time since rat arrival')\n",
        "plt.show()"
      ],
      "metadata": {
        "id": "4sDpojHv4Wjq",
        "colab": {
          "base_uri": "https://localhost:8080/",
          "height": 472
        },
        "outputId": "a7071cab-fa93-4c00-e92e-42d685346822"
      },
      "execution_count": 18,
      "outputs": [
        {
          "output_type": "display_data",
          "data": {
            "text/plain": [
              "<Figure size 640x480 with 1 Axes>"
            ],
            "image/png": "[encoded data removed]"
          },
          "metadata": {}
        }
      ]
    },
    {
      "cell_type": "code",
      "source": [
        "# Mann-Whitney U test\n",
        "\n",
        "g0 = df_clean[df_clean['risk']==0]['bat_landing_to_food'].dropna()\n",
        "g1 = df_clean[df_clean['risk']==1]['bat_landing_to_food'].dropna()\n",
        "U, p = stats.mannwhitneyu(g0, g1, alternative='two-sided')\n",
        "print(\"Mann-Whitney U:\", U, \"p-value:\", p)"
      ],
      "metadata": {
        "id": "WYmqWnnH4c5O",
        "colab": {
          "base_uri": "https://localhost:8080/"
        },
        "outputId": "40c6be69-c7b8-4ad6-e711-b42e2931f7de"
      },
      "execution_count": 19,
      "outputs": [
        {
          "output_type": "stream",
          "name": "stdout",
          "text": [
            "Mann-Whitney U: 68002.0 p-value: 8.431265724019709e-19\n"
          ]
        }
      ]
    },
    {
      "cell_type": "code",
      "source": [
        "# Logistic regression\n",
        "\n",
        "model_df = df_clean.copy()\n",
        "predictors = ['bat_landing_to_food','seconds_after_rat_arrival']\n",
        "if 'hours_after_sunset' in model_df.columns:\n",
        "    predictors.append('hours_after_sunset')\n",
        "if 'reward' in model_df.columns:\n",
        "    predictors.append('reward')"
      ],
      "metadata": {
        "id": "b1G8kM-24w8x"
      },
      "execution_count": 20,
      "outputs": []
    },
    {
      "cell_type": "code",
      "source": [
        "# season dummies\n",
        "if 'season' in model_df.columns:\n",
        "    season_dummies = pd.get_dummies(model_df['season'].astype(str), prefix='season', drop_first=True)\n",
        "    model_df = pd.concat([model_df, season_dummies], axis=1)\n",
        "    predictors += list(season_dummies.columns)"
      ],
      "metadata": {
        "id": "pqBN7uIy4z8R"
      },
      "execution_count": 21,
      "outputs": []
    },
    {
      "cell_type": "code",
      "source": [
        "model_df = model_df.dropna(subset=predictors+['risk'])\n",
        "X = sm.add_constant(model_df[predictors])\n",
        "y = model_df['risk'].astype(int)"
      ],
      "metadata": {
        "id": "iZEFvAll46i_"
      },
      "execution_count": 22,
      "outputs": []
    },
    {
      "cell_type": "code",
      "source": [
        "# Try Logit, fallback to GLM\n",
        "  # Define target and predictors\n",
        "y = df_clean['risk']   # binary target (0 or 1)\n",
        "\n",
        "X = df_clean[['bat_landing_to_food', 'seconds_after_rat_arrival', 'season']]\n",
        "\n",
        "# Convert categorical columns (like 'season') into dummies\n",
        "X = pd.get_dummies(X, drop_first=True)\n",
        "\n",
        "# Add constant for intercept\n",
        "X = sm.add_constant(X)\n",
        "\n",
        "# Fit logistic regression\n",
        "logit = sm.Logit(y, X).fit()\n",
        "print(logit.summary())"
      ],
      "metadata": {
        "id": "GwmpdQgi5CvF",
        "colab": {
          "base_uri": "https://localhost:8080/"
        },
        "outputId": "e22bb028-75e8-4880-8c12-fbb595f80284"
      },
      "execution_count": 24,
      "outputs": [
        {
          "output_type": "stream",
          "name": "stdout",
          "text": [
            "Optimization terminated successfully.\n",
            "         Current function value: 0.668521\n",
            "         Iterations 6\n",
            "                           Logit Regression Results                           \n",
            "==============================================================================\n",
            "Dep. Variable:                   risk   No. Observations:                  907\n",
            "Model:                          Logit   Df Residuals:                      903\n",
            "Method:                           MLE   Df Model:                            3\n",
            "Date:                Wed, 10 Sep 2025   Pseudo R-squ.:                 0.03546\n",
            "Time:                        15:19:17   Log-Likelihood:                -606.35\n",
            "converged:                       True   LL-Null:                       -628.64\n",
            "Covariance Type:            nonrobust   LLR p-value:                 1.135e-09\n",
            "=============================================================================================\n",
            "                                coef    std err          z      P>|z|      [0.025      0.975]\n",
            "---------------------------------------------------------------------------------------------\n",
            "const                         0.0698      0.177      0.394      0.693      -0.277       0.417\n",
            "bat_landing_to_food           0.0258      0.005      4.931      0.000       0.016       0.036\n",
            "seconds_after_rat_arrival     0.0002      0.000      0.748      0.454      -0.000       0.001\n",
            "season                       -0.4877      0.184     -2.646      0.008      -0.849      -0.127\n",
            "=============================================================================================\n"
          ]
        }
      ]
    },
    {
      "cell_type": "code",
      "source": [
        "# Target variable\n",
        "y = df_clean['risk'].astype(int)\n",
        "\n",
        "# Example predictors\n",
        "X = df_clean[['bat_landing_to_food', 'seconds_after_rat_arrival', 'season']]\n",
        "\n",
        "# Convert categorical variables (like season) into dummies\n",
        "X = pd.get_dummies(X, drop_first=True)\n",
        "\n",
        "# Add constant (intercept)\n",
        "X = sm.add_constant(X)\n",
        "\n",
        "# Fit the logistic regression model\n",
        "model = sm.Logit(y, X).fit()\n",
        "print(model.summary())\n",
        "# Odds ratios\n",
        "params = model.params\n",
        "conf = model.conf_int()\n",
        "ORs = pd.DataFrame({\n",
        "    'coef': params,\n",
        "    'odds_ratio': np.exp(params),\n",
        "    'ci_lower': np.exp(conf[0]),\n",
        "    'ci_upper': np.exp(conf[1]),\n",
        "    'pvalue': model.pvalues\n",
        "})\n",
        "print(\"\\nOdds Ratios:\")\n",
        "print(ORs)\n"
      ],
      "metadata": {
        "id": "3cM8hmBB5IRO",
        "colab": {
          "base_uri": "https://localhost:8080/"
        },
        "outputId": "cf0600e8-f631-47ba-e8c8-ad809f9f9220"
      },
      "execution_count": 27,
      "outputs": [
        {
          "output_type": "stream",
          "name": "stdout",
          "text": [
            "Optimization terminated successfully.\n",
            "         Current function value: 0.668521\n",
            "         Iterations 6\n",
            "                           Logit Regression Results                           \n",
            "==============================================================================\n",
            "Dep. Variable:                   risk   No. Observations:                  907\n",
            "Model:                          Logit   Df Residuals:                      903\n",
            "Method:                           MLE   Df Model:                            3\n",
            "Date:                Wed, 10 Sep 2025   Pseudo R-squ.:                 0.03546\n",
            "Time:                        15:23:33   Log-Likelihood:                -606.35\n",
            "converged:                       True   LL-Null:                       -628.64\n",
            "Covariance Type:            nonrobust   LLR p-value:                 1.135e-09\n",
            "=============================================================================================\n",
            "                                coef    std err          z      P>|z|      [0.025      0.975]\n",
            "---------------------------------------------------------------------------------------------\n",
            "const                         0.0698      0.177      0.394      0.693      -0.277       0.417\n",
            "bat_landing_to_food           0.0258      0.005      4.931      0.000       0.016       0.036\n",
            "seconds_after_rat_arrival     0.0002      0.000      0.748      0.454      -0.000       0.001\n",
            "season                       -0.4877      0.184     -2.646      0.008      -0.849      -0.127\n",
            "=============================================================================================\n",
            "\n",
            "Odds Ratios:\n",
            "                               coef  odds_ratio  ci_lower  ci_upper  \\\n",
            "const                      0.069787    1.072280  0.758045  1.516776   \n",
            "bat_landing_to_food        0.025768    1.026103  1.015648  1.036666   \n",
            "seconds_after_rat_arrival  0.000214    1.000214  0.999654  1.000774   \n",
            "season                    -0.487733    0.614017  0.427861  0.881165   \n",
            "\n",
            "                                 pvalue  \n",
            "const                      6.932805e-01  \n",
            "bat_landing_to_food        8.161783e-07  \n",
            "seconds_after_rat_arrival  4.543279e-01  \n",
            "season                     8.135449e-03  \n"
          ]
        }
      ]
    },
    {
      "cell_type": "code",
      "source": [
        "# AUC\n",
        "y_prob = model.predict(X)\n",
        "auc_val = roc_auc_score(y, y_prob)\n",
        "print(\"AUC:\", auc_val)"
      ],
      "metadata": {
        "id": "NXEpmzCC5NK-",
        "colab": {
          "base_uri": "https://localhost:8080/"
        },
        "outputId": "eacf77f9-5288-4e74-98dc-40574b3690ff"
      },
      "execution_count": 28,
      "outputs": [
        {
          "output_type": "stream",
          "name": "stdout",
          "text": [
            "AUC: 0.6804811273961544\n"
          ]
        }
      ]
    },
    {
      "cell_type": "code",
      "source": [
        "# Random Forest check\n",
        "\n",
        "rf_X = X.drop(columns=['const'], errors='ignore').fillna(0)\n",
        "rf_y = y\n",
        "Xtrain,Xtest,ytrain,ytest = train_test_split(rf_X, rf_y, test_size=0.3, random_state=42)\n",
        "rf = RandomForestClassifier(n_estimators=200, random_state=42)\n",
        "rf.fit(Xtrain,ytrain)\n",
        "yhat = rf.predict(Xtest)\n",
        "rf_auc = roc_auc_score(ytest, rf.predict_proba(Xtest)[:,1])\n",
        "print(\"Random Forest AUC:\", rf_auc)\n",
        "print(\"Classification report:\\n\", classification_report(ytest, yhat))\n",
        "print(\"Feature importances:\\n\", pd.Series(rf.feature_importances_, index=rf_X.columns).sort_values(ascending=False))"
      ],
      "metadata": {
        "colab": {
          "base_uri": "https://localhost:8080/"
        },
        "id": "mfeC_gbu5W13",
        "outputId": "65b6364a-fd7a-4457-d99c-2b4b0dc502eb"
      },
      "execution_count": 29,
      "outputs": [
        {
          "output_type": "stream",
          "name": "stdout",
          "text": [
            "Random Forest AUC: 0.6068396733290351\n",
            "Classification report:\n",
            "               precision    recall  f1-score   support\n",
            "\n",
            "           0       0.57      0.57      0.57       141\n",
            "           1       0.54      0.54      0.54       132\n",
            "\n",
            "    accuracy                           0.56       273\n",
            "   macro avg       0.56      0.56      0.56       273\n",
            "weighted avg       0.56      0.56      0.56       273\n",
            "\n",
            "Feature importances:\n",
            " seconds_after_rat_arrival    0.575820\n",
            "bat_landing_to_food          0.404981\n",
            "season                       0.019199\n",
            "dtype: float64\n"
          ]
        }
      ]
    },
    {
      "cell_type": "code",
      "source": [
        "# Saving key outputs\n",
        "\n",
        "summary = {\n",
        "    \"mannwhitney\": {\"U\": float(U), \"p\": float(p)},\n",
        "    \"logistic_auc\": float(auc_val),\n",
        "    \"rf_auc\": float(rf_auc)\n",
        "}\n",
        "with open(os.path.join(OUT_DIR, \"summary.json\"), \"w\") as f:\n",
        "    json.dump(summary, f, indent=2)\n",
        "\n",
        "print(\"\\nAll done. Results saved in\", OUT_DIR)"
      ],
      "metadata": {
        "colab": {
          "base_uri": "https://localhost:8080/"
        },
        "id": "R08i3Spr5am1",
        "outputId": "8d7bd956-9ad4-42fa-dca8-42c050e5f6c0"
      },
      "execution_count": 30,
      "outputs": [
        {
          "output_type": "stream",
          "name": "stdout",
          "text": [
            "\n",
            "All done. Results saved in Bat_Vs_Rat_assignment_outputs\n"
          ]
        }
      ]
    }
  ]
}